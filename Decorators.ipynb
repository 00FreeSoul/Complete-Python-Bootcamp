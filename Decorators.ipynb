{
 "cells": [
  {
   "cell_type": "markdown",
   "metadata": {},
   "source": [
    "#Decorators\n",
    "Before getting started with Decorators, a quick reminder from the Lecture on Nested Statements and Scopes, functions are objects and can be assigned labels.Lets look a t quick example of assigning a label to a function in order to pass it into another function:"
   ]
  },
  {
   "cell_type": "code",
   "execution_count": 3,
   "metadata": {
    "collapsed": false
   },
   "outputs": [
    {
     "name": "stdout",
     "output_type": "stream",
     "text": [
      "3\n"
     ]
    }
   ],
   "source": [
    "def is_even(num):\n",
    "    \"\"\"Return True if number is even.\"\"\"\n",
    "    return (num % 2) == 0\n",
    "\n",
    "def count_occurrences(input_list, func):\n",
    "    \"\"\"Return the number of times func returns Ture for a list\"\"\" \n",
    "    return sum([1 for item in input_list if func(item)])\n",
    "\n",
    "func = is_even\n",
    "lst = [1,2,3,4,5,6]\n",
    "\n",
    "print count_occurrences(lst, func)"
   ]
  },
  {
   "cell_type": "code",
   "execution_count": null,
   "metadata": {
    "collapsed": true
   },
   "outputs": [],
   "source": []
  },
  {
   "cell_type": "markdown",
   "metadata": {},
   "source": [
    "https://www.jeffknupp.com/blog/2013/11/29/improve-your-python-decorators-explained/\n",
    "http://simeonfranklin.com/blog/2012/jul/1/python-decorators-in-12-steps/"
   ]
  },
  {
   "cell_type": "code",
   "execution_count": null,
   "metadata": {
    "collapsed": true
   },
   "outputs": [],
   "source": []
  }
 ],
 "metadata": {
  "kernelspec": {
   "display_name": "Python 2",
   "language": "python",
   "name": "python2"
  },
  "language_info": {
   "codemirror_mode": {
    "name": "ipython",
    "version": 2
   },
   "file_extension": ".py",
   "mimetype": "text/x-python",
   "name": "python",
   "nbconvert_exporter": "python",
   "pygments_lexer": "ipython2",
   "version": "2.7.10"
  }
 },
 "nbformat": 4,
 "nbformat_minor": 0
}
